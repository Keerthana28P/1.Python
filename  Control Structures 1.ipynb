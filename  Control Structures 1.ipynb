{
 "cells": [
  {
   "cell_type": "code",
   "execution_count": 3,
   "id": "899bf0ef-e2dc-4f70-96ca-66634578651a",
   "metadata": {},
   "outputs": [
    {
     "name": "stdout",
     "output_type": "stream",
     "text": [
      "Welcome to Assignment -1\n"
     ]
    }
   ],
   "source": [
    "print(\"Welcome to Assignment -1\")"
   ]
  },
  {
   "cell_type": "code",
   "execution_count": 7,
   "id": "17864012-d88d-43ac-9b86-cf8ab18c193f",
   "metadata": {},
   "outputs": [
    {
     "name": "stdout",
     "output_type": "stream",
     "text": [
      "Num1= 10\n",
      "Num2= 30\n",
      "add=  40\n"
     ]
    }
   ],
   "source": [
    "Num1=10\n",
    "Num2=30\n",
    "add=Num1+Num2\n",
    "print(\"Num1=\",Num1 )\n",
    "print(\"Num2=\",Num2 )\n",
    "print(\"add= \",add)"
   ]
  },
  {
   "cell_type": "code",
   "execution_count": 9,
   "id": "46059af3-4dd4-42da-abe7-bc85845940e8",
   "metadata": {},
   "outputs": [
    {
     "name": "stdin",
     "output_type": "stream",
     "text": [
      "Enter the BMI Index: 34\n"
     ]
    },
    {
     "name": "stdout",
     "output_type": "stream",
     "text": [
      "Obese\n"
     ]
    }
   ],
   "source": [
    "BMI=int(input(\"Enter the BMI Index:\"))\n",
    "if(BMI<18.5):\n",
    "    print(\"Under weight\")\n",
    "elif(BMI<25):\n",
    "    print(\"Normal\")\n",
    "elif(BMI<30):\n",
    "    print(\"Overweight\")\n",
    "elif(BMI<35):\n",
    "    print(\"Obese\")\n",
    "else:\n",
    "    print(\"Morbidily Obese\")\n",
    "\n"
   ]
  },
  {
   "cell_type": "code",
   "execution_count": null,
   "id": "1baf7956-6569-4bc0-ac23-d4fe2999540b",
   "metadata": {},
   "outputs": [],
   "source": []
  }
 ],
 "metadata": {
  "kernelspec": {
   "display_name": "Python [conda env:base] *",
   "language": "python",
   "name": "conda-base-py"
  },
  "language_info": {
   "codemirror_mode": {
    "name": "ipython",
    "version": 3
   },
   "file_extension": ".py",
   "mimetype": "text/x-python",
   "name": "python",
   "nbconvert_exporter": "python",
   "pygments_lexer": "ipython3",
   "version": "3.12.7"
  }
 },
 "nbformat": 4,
 "nbformat_minor": 5
}
