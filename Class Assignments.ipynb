{
 "cells": [
  {
   "cell_type": "code",
   "execution_count": 9,
   "id": "a5029bcd-7a7d-4a41-a452-97d8ac8c6ac2",
   "metadata": {},
   "outputs": [],
   "source": [
    "class SubfieldsInAI():\n",
    "    def Subfields(str):\n",
    "        if(str==\"AI\"):\n",
    "            print(\"Sub-fields in AI are:\")\n",
    "        SubfieldsAI=[\"Machine Learning\",\"Neural Networks\",\"Visison\",\"Robotics\",\"Speech Processing\",\"Natural Language Processing\"]\n",
    "        for field in SubfieldsAI:\n",
    "            print(field)"
   ]
  },
  {
   "cell_type": "code",
   "execution_count": 11,
   "id": "1cdb9158-9bc9-4cb4-9013-491605c935f6",
   "metadata": {},
   "outputs": [
    {
     "name": "stdout",
     "output_type": "stream",
     "text": [
      "Sub-fields in AI are:\n",
      "Machine Learning\n",
      "Neural Networks\n",
      "Visison\n",
      "Robotics\n",
      "Speech Processing\n",
      "Natural Language Processing\n"
     ]
    }
   ],
   "source": [
    "SubfieldsInAI.Subfields(\"AI\")"
   ]
  },
  {
   "cell_type": "code",
   "execution_count": 31,
   "id": "c7f7d14e-72d1-47ed-af6d-783c84bbc34e",
   "metadata": {},
   "outputs": [],
   "source": [
    "class OddEven():\n",
    "    def OddEven():\n",
    "        num=int(input(\"Enter a number:\"))\n",
    "        if ((num%2)==0):\n",
    "            print(num,\"is Even number\")\n",
    "            message=\"The given number is even number\"\n",
    "        else:\n",
    "            print(num,\"is Odd number\")\n",
    "            message=\"The given number is odd number\"\n",
    "            return message"
   ]
  },
  {
   "cell_type": "code",
   "execution_count": 33,
   "id": "ea2fba76-e3e0-4131-a5b5-0b38f98439ef",
   "metadata": {},
   "outputs": [
    {
     "name": "stdin",
     "output_type": "stream",
     "text": [
      "Enter a number: 52452\n"
     ]
    },
    {
     "name": "stdout",
     "output_type": "stream",
     "text": [
      "52452 is Even number\n"
     ]
    }
   ],
   "source": [
    "OddEven.OddEven()"
   ]
  },
  {
   "cell_type": "code",
   "execution_count": 35,
   "id": "ee68a6fc-f397-485f-a131-1fcf1f6e1bdf",
   "metadata": {},
   "outputs": [],
   "source": [
    "class ElegibiltyForMarriage():\n",
    "    def Elegible():\n",
    "        gen=input(\"Your Gender:\")\n",
    "        age=int(input(\"Your Age:\"))\n",
    "        if(gen==\"Male\" and age>=21):\n",
    "            print(\"Eligible\")\n",
    "        elif(gen==\"Female\" and age>=18):\n",
    "            print(\"Eligible\")\n",
    "        else:\n",
    "            print(\"Not Eligible\")\n",
    "    "
   ]
  },
  {
   "cell_type": "code",
   "execution_count": 37,
   "id": "6ef7234f-3f2c-43f9-a779-9ef6c53c41aa",
   "metadata": {},
   "outputs": [
    {
     "name": "stdin",
     "output_type": "stream",
     "text": [
      "Your Gender: Male\n",
      "Your Age: 20\n"
     ]
    },
    {
     "name": "stdout",
     "output_type": "stream",
     "text": [
      "Not Eligible\n"
     ]
    }
   ],
   "source": [
    " ElegibiltyForMarriage.Elegible()"
   ]
  },
  {
   "cell_type": "code",
   "execution_count": 39,
   "id": "367c1b4d-40c1-46f1-a3ac-6dcda8d6106c",
   "metadata": {},
   "outputs": [],
   "source": [
    "class FindPercent():\n",
    "    def percentage():\n",
    "        sub1=int(input(\"Subject1=\"))\n",
    "        sub2=int(input(\"Subject2=\"))\n",
    "        sub3=int(input(\"Subject3=\"))\n",
    "        sub4=int(input(\"Subject4=\"))\n",
    "        sub5=int(input(\"Subject5=\"))\n",
    "        Total=sub1+sub2+sub3+sub4+sub5\n",
    "        print(\"Total:\",Total)\n",
    "        percentage=float((Total/500)*100)\n",
    "        print(\"Percentage:\",percentage)\n",
    "        return percentage"
   ]
  },
  {
   "cell_type": "code",
   "execution_count": 41,
   "id": "121f2731-5e0f-45ac-a0ac-c277a4779a50",
   "metadata": {},
   "outputs": [
    {
     "name": "stdin",
     "output_type": "stream",
     "text": [
      "Subject1= 98\n",
      "Subject2= 87\n",
      "Subject3= 95\n",
      "Subject4= 95\n",
      "Subject5= 93\n"
     ]
    },
    {
     "name": "stdout",
     "output_type": "stream",
     "text": [
      "Total: 468\n",
      "Percentage: 93.60000000000001\n"
     ]
    },
    {
     "data": {
      "text/plain": [
       "93.60000000000001"
      ]
     },
     "execution_count": 41,
     "metadata": {},
     "output_type": "execute_result"
    }
   ],
   "source": [
    " FindPercent.percentage()"
   ]
  },
  {
   "cell_type": "code",
   "execution_count": 43,
   "id": "c97ce963-2efc-417e-af00-db8d767f8645",
   "metadata": {},
   "outputs": [],
   "source": [
    "class triangle():\n",
    "    def triangle():\n",
    "        val1=int(input(\"Height:\"))\n",
    "        val2=int(input(\"Breadth:\"))\n",
    "        area=float(val1*val2)/2\n",
    "        print(\"Area of Traianle:\",area)\n",
    "        H1=int(input(\"Height1:\"))\n",
    "        H2=int(input(\"Height2:\"))\n",
    "        Br=int(input(\"Breadth:\"))\n",
    "        perimeter=H1+H2+Br\n",
    "        print(\"Perimeter of Triangle:\",perimeter)\n",
    "        return area,perimeter\n",
    "     "
   ]
  },
  {
   "cell_type": "code",
   "execution_count": 45,
   "id": "2b9bcd33-2f37-4eaa-b416-12ca8d70bc21",
   "metadata": {},
   "outputs": [
    {
     "name": "stdin",
     "output_type": "stream",
     "text": [
      "Height: 32\n",
      "Breadth: 34\n"
     ]
    },
    {
     "name": "stdout",
     "output_type": "stream",
     "text": [
      "Area of Traianle: 544.0\n"
     ]
    },
    {
     "name": "stdin",
     "output_type": "stream",
     "text": [
      "Height1: 2\n",
      "Height2: 4\n",
      "Breadth: 4\n"
     ]
    },
    {
     "name": "stdout",
     "output_type": "stream",
     "text": [
      "Perimeter of Triangle: 10\n"
     ]
    },
    {
     "data": {
      "text/plain": [
       "(544.0, 10)"
      ]
     },
     "execution_count": 45,
     "metadata": {},
     "output_type": "execute_result"
    }
   ],
   "source": [
    "triangle.triangle()"
   ]
  },
  {
   "cell_type": "code",
   "execution_count": null,
   "id": "60597429-095c-434f-b90a-1431bdda60f9",
   "metadata": {},
   "outputs": [],
   "source": []
  }
 ],
 "metadata": {
  "kernelspec": {
   "display_name": "Python [conda env:base] *",
   "language": "python",
   "name": "conda-base-py"
  },
  "language_info": {
   "codemirror_mode": {
    "name": "ipython",
    "version": 3
   },
   "file_extension": ".py",
   "mimetype": "text/x-python",
   "name": "python",
   "nbconvert_exporter": "python",
   "pygments_lexer": "ipython3",
   "version": "3.12.7"
  }
 },
 "nbformat": 4,
 "nbformat_minor": 5
}
