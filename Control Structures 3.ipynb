{
 "cells": [
  {
   "cell_type": "code",
   "execution_count": 3,
   "id": "84d3541d-722b-4853-8a0a-418a262f36c2",
   "metadata": {},
   "outputs": [
    {
     "name": "stdout",
     "output_type": "stream",
     "text": [
      "0\n",
      "1\n",
      "2\n",
      "3\n",
      "4\n",
      "5\n",
      "6\n",
      "7\n",
      "8\n",
      "9\n",
      "10\n",
      "11\n",
      "12\n",
      "13\n",
      "14\n",
      "15\n",
      "16\n",
      "17\n",
      "18\n",
      "19\n"
     ]
    }
   ],
   "source": [
    "#Range-1\n",
    "Num=range(0,20)\n",
    "for op in Num:\n",
    "    print(op)"
   ]
  },
  {
   "cell_type": "code",
   "execution_count": 17,
   "id": "c7d90239-0a2e-4a55-9b21-ade8504d90ef",
   "metadata": {},
   "outputs": [
    {
     "name": "stdout",
     "output_type": "stream",
     "text": [
      "10 11 12 13 14 15 16 17 18 19 "
     ]
    }
   ],
   "source": [
    "#Range-2\n",
    "Num=range(10,20)\n",
    "for op in Num:\n",
    "    print(op,end=' ')\n",
    "    "
   ]
  },
  {
   "cell_type": "code",
   "execution_count": 19,
   "id": "f60dc55e-d9f1-4b16-a8c0-141309726d3d",
   "metadata": {},
   "outputs": [
    {
     "name": "stdout",
     "output_type": "stream",
     "text": [
      "Number of item in the list2:  7\n"
     ]
    }
   ],
   "source": [
    "#Length of list\n",
    "list2=[10,20,14,55,43,87,76]\n",
    "print(\"Number of item in the list2: \",len(list2))"
   ]
  },
  {
   "cell_type": "code",
   "execution_count": 1,
   "id": "97acc95b-3bc8-4856-b090-539642b68994",
   "metadata": {},
   "outputs": [
    {
     "name": "stdout",
     "output_type": "stream",
     "text": [
      "Artificial Intelligence\n",
      "A\n",
      "r\n",
      "t\n",
      "i\n",
      "f\n",
      "i\n",
      "c\n",
      "i\n",
      "a\n",
      "l\n",
      " \n",
      "I\n",
      "n\n",
      "t\n",
      "e\n",
      "l\n",
      "l\n",
      "i\n",
      "g\n",
      "e\n",
      "n\n",
      "c\n",
      "e\n"
     ]
    }
   ],
   "source": [
    "#Print string vertically\n",
    "x='Artificial Intelligence'\n",
    "print(x)\n",
    "for op in x:\n",
    "    print (op)"
   ]
  },
  {
   "cell_type": "code",
   "execution_count": 5,
   "id": "549c3b44-e602-4412-812c-5b2ce745a499",
   "metadata": {},
   "outputs": [
    {
     "name": "stdout",
     "output_type": "stream",
     "text": [
      "-Your Name-\n",
      "-Your Age-\n",
      "-Your Profession-\n"
     ]
    }
   ],
   "source": [
    "#Print\n",
    "print(\"-Your Name-\")\n",
    "print(\"-Your Age-\")\n",
    "print(\"-Your Profession-\")"
   ]
  },
  {
   "cell_type": "code",
   "execution_count": 1,
   "id": "e522163e-1d05-4c07-987e-c2fa9702dbb1",
   "metadata": {},
   "outputs": [
    {
     "name": "stdout",
     "output_type": "stream",
     "text": [
      "(1, 'Welcome', 2, 'Hope')\n"
     ]
    }
   ],
   "source": [
    "#Tuple-1\n",
    "t=(1,'Welcome',2,'Hope')\n",
    "print(tuple(t))"
   ]
  },
  {
   "cell_type": "code",
   "execution_count": 3,
   "id": "35475399-d6b8-46f1-bb13-041a6062ff46",
   "metadata": {},
   "outputs": [
    {
     "name": "stdout",
     "output_type": "stream",
     "text": [
      "(0, 1, 2, 3) ('Python', 'HOPE')\n"
     ]
    }
   ],
   "source": [
    "#Tuple-2\n",
    "list1=(0,1,2,3)\n",
    "String2=('Python','HOPE')\n",
    "print(tuple(list1),tuple(String2))"
   ]
  },
  {
   "cell_type": "code",
   "execution_count": 15,
   "id": "201fa70c-f11d-43ca-abec-05be084e2963",
   "metadata": {},
   "outputs": [
    {
     "name": "stdout",
     "output_type": "stream",
     "text": [
      "19 is odd\n",
      "25 is odd\n",
      "1 is odd\n"
     ]
    }
   ],
   "source": [
    "#Print Odd numbers from the list\n",
    "a=[20,10,16,19,25,1,276,188]\n",
    "for i in a:\n",
    "    if i % 2 !=0:\n",
    "        print(i,\"is odd\")\n"
   ]
  },
  {
   "cell_type": "code",
   "execution_count": 17,
   "id": "a0146b98-2689-4292-8a3a-4149bd2a9c2b",
   "metadata": {},
   "outputs": [
    {
     "name": "stdout",
     "output_type": "stream",
     "text": [
      "20 is even\n",
      "10 is even\n",
      "16 is even\n",
      "276 is even\n",
      "188 is even\n"
     ]
    }
   ],
   "source": [
    "#Print Even numbers from the list\n",
    "b=[20,10,16,19,25,1,276,188]\n",
    "for j in a:\n",
    "    if j % 2 ==0:\n",
    "        print (j,\"is even\")"
   ]
  },
  {
   "cell_type": "code",
   "execution_count": null,
   "id": "9c358ce8-f529-4f57-ae41-205f3028abb1",
   "metadata": {},
   "outputs": [],
   "source": []
  }
 ],
 "metadata": {
  "kernelspec": {
   "display_name": "Python [conda env:base] *",
   "language": "python",
   "name": "conda-base-py"
  },
  "language_info": {
   "codemirror_mode": {
    "name": "ipython",
    "version": 3
   },
   "file_extension": ".py",
   "mimetype": "text/x-python",
   "name": "python",
   "nbconvert_exporter": "python",
   "pygments_lexer": "ipython3",
   "version": "3.12.7"
  }
 },
 "nbformat": 4,
 "nbformat_minor": 5
}
