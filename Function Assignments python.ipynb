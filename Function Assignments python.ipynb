{
 "cells": [
  {
   "cell_type": "code",
   "execution_count": 1,
   "id": "58d51e8c-afd1-410d-81bd-b254163953eb",
   "metadata": {},
   "outputs": [],
   "source": [
    "#To print subfields of AI\n",
    "def Subfields(str):\n",
    "    if(str==\"AI\"):\n",
    "        print(\"Sub-fields in AI are:\")\n",
    "        SubfieldsAI=[\"Machine Learning\",\"Neural Networks\",\"Visison\",\"Robotics\",\"Speech Processing\",\"Natural Language Processing\"]\n",
    "    for field in SubfieldsAI:\n",
    "        print(field)"
   ]
  },
  {
   "cell_type": "code",
   "execution_count": 3,
   "id": "5afb53cd-8a13-494b-a1fa-ba8f0d3335ee",
   "metadata": {},
   "outputs": [
    {
     "name": "stdout",
     "output_type": "stream",
     "text": [
      "Sub-fields in AI are:\n",
      "Machine Learning\n",
      "Neural Networks\n",
      "Visison\n",
      "Robotics\n",
      "Speech Processing\n",
      "Natural Language Processing\n"
     ]
    }
   ],
   "source": [
    "SIAI=Subfields(\"AI\")"
   ]
  },
  {
   "cell_type": "code",
   "execution_count": 5,
   "id": "73fb15b0-86e6-4046-8435-6e4458c80540",
   "metadata": {},
   "outputs": [],
   "source": [
    "#To find a odd or even number\n",
    "def OddEven():\n",
    "    num=int(input(\"Enter a number:\"))\n",
    "    if ((num%2)==0):\n",
    "        print(num,\"is Even number\")\n",
    "        message=\"The given number is even number\"\n",
    "    else:\n",
    "        print(num,\"is Odd number\")\n",
    "        message=\"The given number is odd number\"\n",
    "        return message"
   ]
  },
  {
   "cell_type": "code",
   "execution_count": 9,
   "id": "c4c99a8e-cdf9-4989-96a3-3bf58dc18768",
   "metadata": {},
   "outputs": [
    {
     "name": "stdin",
     "output_type": "stream",
     "text": [
      "Enter a number: 52452\n"
     ]
    },
    {
     "name": "stdout",
     "output_type": "stream",
     "text": [
      "52452 is Even number\n"
     ]
    }
   ],
   "source": [
    "OE=OddEven()"
   ]
  },
  {
   "cell_type": "code",
   "execution_count": 1,
   "id": "ba2e56ce-125b-42cd-8126-fcc708601c7f",
   "metadata": {},
   "outputs": [],
   "source": [
    "#To check the eligibilty of Marriage\n",
    "def Elegible():\n",
    "    gen=input(\"Your Gender:\")\n",
    "    age=int(input(\"Your Age:\"))\n",
    "    if(gen==\"Male\" and age>=21):\n",
    "        print(\"Eligible\")\n",
    "    elif(gen==\"Female\" and age>=18):\n",
    "        print(\"Eligible\")\n",
    "    else:\n",
    "        print(\"Not Eligible\")\n",
    "               "
   ]
  },
  {
   "cell_type": "code",
   "execution_count": 3,
   "id": "cbe05258-6bb9-4ebb-9a1b-fafc64c74370",
   "metadata": {},
   "outputs": [
    {
     "name": "stdin",
     "output_type": "stream",
     "text": [
      "Your Gender: Male\n",
      "Your Age: 20\n"
     ]
    },
    {
     "name": "stdout",
     "output_type": "stream",
     "text": [
      "Not Eligible\n"
     ]
    }
   ],
   "source": [
    "MFE=Elegible()"
   ]
  },
  {
   "cell_type": "code",
   "execution_count": 9,
   "id": "033ffb9d-71a1-496b-88b9-7654a808eebb",
   "metadata": {},
   "outputs": [],
   "source": [
    "#To calculate percentage of 10th marks of a student\n",
    "def percentage():\n",
    "    sub1=int(input(\"Subject1=\"))\n",
    "    sub2=int(input(\"Subject2=\"))\n",
    "    sub3=int(input(\"Subject3=\"))\n",
    "    sub4=int(input(\"Subject4=\"))\n",
    "    sub5=int(input(\"Subject5=\"))\n",
    "    Total=sub1+sub2+sub3+sub4+sub5\n",
    "    print(\"Total:\",Total)\n",
    "    percentage=float((Total/500)*100)\n",
    "    print(\"Percentage:\",percentage)\n",
    "    return percentage"
   ]
  },
  {
   "cell_type": "code",
   "execution_count": 35,
   "id": "94b301ae-c568-4c33-bc17-8ac284010eb8",
   "metadata": {},
   "outputs": [
    {
     "name": "stdin",
     "output_type": "stream",
     "text": [
      "Subject1= 87\n",
      "Subject2= 98\n",
      "Subject3= 95\n",
      "Subject4= 95\n",
      "Subject5= 93\n"
     ]
    },
    {
     "name": "stdout",
     "output_type": "stream",
     "text": [
      "Total: 468\n",
      "Percentage: 93.60000000000001\n"
     ]
    }
   ],
   "source": [
    "FP=percentage()"
   ]
  },
  {
   "cell_type": "code",
   "execution_count": 43,
   "id": "e3cdbd9a-3189-4a49-a102-45bcb3eac1c7",
   "metadata": {},
   "outputs": [],
   "source": [
    "#To calculate area and perimeter of triangle\n",
    "def triangle():\n",
    "    val1=int(input(\"Height:\"))\n",
    "    val2=int(input(\"Breadth:\"))\n",
    "    area=float(val1*val2)/2\n",
    "    print(\"Area of Traianle:\",area)\n",
    "    H1=int(input(\"Height1:\"))\n",
    "    H2=int(input(\"Height2:\"))\n",
    "    Br=int(input(\"Breadth:\"))\n",
    "    perimeter=H1+H2+Br\n",
    "    print(\"Perimeter of Triangle:\",perimeter)\n",
    "    return area,perimeter"
   ]
  },
  {
   "cell_type": "code",
   "execution_count": 45,
   "id": "4502c2cb-270e-449c-9b1c-d3787f5f4467",
   "metadata": {},
   "outputs": [
    {
     "name": "stdin",
     "output_type": "stream",
     "text": [
      "Height: 32\n",
      "Breadth: 34\n"
     ]
    },
    {
     "name": "stdout",
     "output_type": "stream",
     "text": [
      "Area of Traianle: 544.0\n"
     ]
    },
    {
     "name": "stdin",
     "output_type": "stream",
     "text": [
      "Height1: 2\n",
      "Height2: 4\n",
      "Breadth: 4\n"
     ]
    },
    {
     "name": "stdout",
     "output_type": "stream",
     "text": [
      "Perimeter of Triangle: 10\n"
     ]
    }
   ],
   "source": [
    "Tri=triangle()"
   ]
  },
  {
   "cell_type": "code",
   "execution_count": null,
   "id": "a0d67c25-b613-4534-8d2e-2fa54147ff54",
   "metadata": {},
   "outputs": [],
   "source": []
  }
 ],
 "metadata": {
  "kernelspec": {
   "display_name": "Python [conda env:base] *",
   "language": "python",
   "name": "conda-base-py"
  },
  "language_info": {
   "codemirror_mode": {
    "name": "ipython",
    "version": 3
   },
   "file_extension": ".py",
   "mimetype": "text/x-python",
   "name": "python",
   "nbconvert_exporter": "python",
   "pygments_lexer": "ipython3",
   "version": "3.12.7"
  }
 },
 "nbformat": 4,
 "nbformat_minor": 5
}
